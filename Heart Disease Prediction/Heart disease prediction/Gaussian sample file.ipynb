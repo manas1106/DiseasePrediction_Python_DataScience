{
 "cells": [
  {
   "cell_type": "code",
   "execution_count": 1,
   "metadata": {},
   "outputs": [],
   "source": [
    "import pandas as pd\n",
    "import numpy as np\n",
    "x_values = pd.DataFrame({\n",
    "    'height': [6, 5.92, 5.58, 5.92, 5, 5.5, 5.42, 5.75],\n",
    "    'weight': [180,190,170,165,100,150,130,150],\n",
    "    'foot': [12,11,12,10,6,8,7,9]\n",
    "})\n",
    "# I converted \"male\" to 0, and \"female\" to 1 in the y which is our target.\n",
    "y = pd.Series([0,0,0,0,1,1,1,1])\n",
    "# to be used in sklearn due to how sklearn wants the data\n",
    "sample = pd.DataFrame({\n",
    "    'height': [6],\n",
    "    'weight': [130],\n",
    "    'foot': [8]\n",
    "})\n",
    "# same data as sample above, but to be used in custome built\n",
    "# classifier due to the data structure our class is expecting.\n",
    "x_test = [6, 13, 8]\n"
   ]
  },
  {
   "cell_type": "code",
   "execution_count": 2,
   "metadata": {},
   "outputs": [],
   "source": [
    "x = x_values\n",
    "# to group a dataset by class, you can simply use \n",
    "# pandas groupby function\n",
    "# to group our x by y, we simply do\n",
    "x.groupby(by=y)\n",
    "# not only can we group using pandas groupby, \n",
    "# the easiast way to get the mean and variance of each\n",
    "# feature by group is to use the pandas groupby function\n",
    "# to get the mean of each feature by group, we do\n",
    "x.groupby(by=y).mean()\n",
    "# to get the variance of each featurey by group, we do\n",
    "x.groupby(by=y).var()\n",
    "# putting all of this together in our fit function, \n",
    "# this is what we got. \n",
    "def fit(x, y):\n",
    "  mean = x.groupby(by=y).mean()\n",
    "  var = x.groupby(by=y).var()\n",
    "  return mean, var\n",
    "# I returned mean, and var so that we can see \n",
    "# what the results look like. When we put everything together \n",
    "# in a class below, then no need to return mean, var.\n",
    "# now, we can call this fit method and see if it works. \n",
    "mean2, var2 = fit(x_values, y)\n"
   ]
  },
  {
   "cell_type": "code",
   "execution_count": 3,
   "metadata": {},
   "outputs": [],
   "source": [
    "# converting the mean values into an array\n",
    "m = np.array(mean2)\n",
    "# converting the variance values into an array\n",
    "v = np.array(var2)\n"
   ]
  },
  {
   "cell_type": "code",
   "execution_count": null,
   "metadata": {},
   "outputs": [],
   "source": []
  }
 ],
 "metadata": {
  "kernelspec": {
   "display_name": "Python 3",
   "language": "python",
   "name": "python3"
  },
  "language_info": {
   "codemirror_mode": {
    "name": "ipython",
    "version": 3
   },
   "file_extension": ".py",
   "mimetype": "text/x-python",
   "name": "python",
   "nbconvert_exporter": "python",
   "pygments_lexer": "ipython3",
   "version": "3.8.5"
  }
 },
 "nbformat": 4,
 "nbformat_minor": 2
}
